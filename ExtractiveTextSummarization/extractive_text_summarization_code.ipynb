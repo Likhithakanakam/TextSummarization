{
  "nbformat": 4,
  "nbformat_minor": 0,
  "metadata": {
    "kernelspec": {
      "display_name": "Python 3",
      "language": "python",
      "name": "python3"
    },
    "language_info": {
      "codemirror_mode": {
        "name": "ipython",
        "version": 3
      },
      "file_extension": ".py",
      "mimetype": "text/x-python",
      "name": "python",
      "nbconvert_exporter": "python",
      "pygments_lexer": "ipython3",
      "version": "3.7.3"
    },
    "colab": {
      "name": "extractive text summarization .ipynb",
      "provenance": [],
      "machine_shape": "hm"
    }
  },
  "cells": [
    {
      "cell_type": "markdown",
      "metadata": {
        "id": "zS17q1uhs6H6",
        "colab_type": "text"
      },
      "source": [
        "**IMPORTING REQUIRED MODULES AND PACKAGES**"
      ]
    },
    {
      "cell_type": "code",
      "metadata": {
        "id": "mvMk4e4-s6IF",
        "colab_type": "code",
        "outputId": "6a586055-5f71-4f6a-f0df-b119be59ab4f",
        "colab": {
          "base_uri": "https://localhost:8080/",
          "height": 67
        }
      },
      "source": [
        "import numpy as np\n",
        "import pandas as pd\n",
        "import nltk\n",
        "nltk.download('punkt') # one time execution"
      ],
      "execution_count": 0,
      "outputs": [
        {
          "output_type": "stream",
          "text": [
            "[nltk_data] Downloading package punkt to /root/nltk_data...\n",
            "[nltk_data]   Unzipping tokenizers/punkt.zip.\n"
          ],
          "name": "stdout"
        },
        {
          "output_type": "execute_result",
          "data": {
            "text/plain": [
              "True"
            ]
          },
          "metadata": {
            "tags": []
          },
          "execution_count": 1
        }
      ]
    },
    {
      "cell_type": "markdown",
      "metadata": {
        "id": "_IT6RGGTs6IZ",
        "colab_type": "text"
      },
      "source": [
        "**INPUT TEXT**"
      ]
    },
    {
      "cell_type": "code",
      "metadata": {
        "id": "Mgwq3m0Ws6Ie",
        "colab_type": "code",
        "colab": {}
      },
      "source": [
        "s='Malaria is a \"mosquito-borne\" infectious disease that affects humans and other animals. Malaria causes symptoms that typically include fever, tiredness, vomiting, and headaches. In severe cases it can cause yellow skin, seizures, coma & death. Symptoms usually begin 10 - 15 days after being bitten by an infected mosquito.'"
      ],
      "execution_count": 0,
      "outputs": []
    },
    {
      "cell_type": "code",
      "metadata": {
        "id": "CKq5Is5ys6Iw",
        "colab_type": "code",
        "outputId": "5445461f-7bf0-4636-d2cf-a62b2ab298c4",
        "colab": {
          "base_uri": "https://localhost:8080/",
          "height": 54
        }
      },
      "source": [
        "print(\"Input text:\",s)"
      ],
      "execution_count": 0,
      "outputs": [
        {
          "output_type": "stream",
          "text": [
            "Input text: Malaria is a \"mosquito-borne\" infectious disease that affects humans and other animals. Malaria causes symptoms that typically include fever, tiredness, vomiting, and headaches. In severe cases it can cause yellow skin, seizures, coma & death. Symptoms usually begin 10 - 15 days after being bitten by an infected mosquito.\n"
          ],
          "name": "stdout"
        }
      ]
    },
    {
      "cell_type": "markdown",
      "metadata": {
        "id": "jp69uy2Ds6I8",
        "colab_type": "text"
      },
      "source": [
        "**TOKENIZATION OF SENTENCES**"
      ]
    },
    {
      "cell_type": "code",
      "metadata": {
        "id": "W1RzcqCRs6I_",
        "colab_type": "code",
        "colab": {}
      },
      "source": [
        "from nltk.tokenize import sent_tokenize\n",
        "sentences=[]\n",
        "sentences.append(sent_tokenize(s))\n",
        "sentences = [word for sent in sentences for word in sent] "
      ],
      "execution_count": 0,
      "outputs": []
    },
    {
      "cell_type": "code",
      "metadata": {
        "id": "ml-j7cWMs6JJ",
        "colab_type": "code",
        "outputId": "00c36d89-e375-4353-fe91-c3eaae3b10b8",
        "colab": {
          "base_uri": "https://localhost:8080/",
          "height": 54
        }
      },
      "source": [
        "print(\"After tokenization:\",sentences)"
      ],
      "execution_count": 0,
      "outputs": [
        {
          "output_type": "stream",
          "text": [
            "After tokenization: ['Malaria is a \"mosquito-borne\" infectious disease that affects humans and other animals.', 'Malaria causes symptoms that typically include fever, tiredness, vomiting, and headaches.', 'In severe cases it can cause yellow skin, seizures, coma & death.', 'Symptoms usually begin 10 - 15 days after being bitten by an infected mosquito.']\n"
          ],
          "name": "stdout"
        }
      ]
    },
    {
      "cell_type": "markdown",
      "metadata": {
        "id": "y3fj1Eb9s6JV",
        "colab_type": "text"
      },
      "source": [
        "**REMOVE PUNCTUATIONS, NUMBERS AND SPECIAL CHARACTERS**"
      ]
    },
    {
      "cell_type": "code",
      "metadata": {
        "id": "wjtTMpQYs6JY",
        "colab_type": "code",
        "outputId": "b67ea5a3-1f46-4120-ad6f-91b591c09ce6",
        "colab": {
          "base_uri": "https://localhost:8080/",
          "height": 118
        }
      },
      "source": [
        "# remove punctuations, numbers and special characters\n",
        "clean_sentences = pd.Series(sentences).str.replace(\"[^a-zA-Z]\", \" \")\n",
        "print(\"clean sentences:\")\n",
        "print(clean_sentences)"
      ],
      "execution_count": 0,
      "outputs": [
        {
          "output_type": "stream",
          "text": [
            "clean sentences:\n",
            "0    Malaria is a  mosquito borne  infectious disea...\n",
            "1    Malaria causes symptoms that typically include...\n",
            "2    In severe cases it can cause yellow skin  seiz...\n",
            "3    Symptoms usually begin         days after bein...\n",
            "dtype: object\n"
          ],
          "name": "stdout"
        }
      ]
    },
    {
      "cell_type": "code",
      "metadata": {
        "id": "3h8JicJQs6Jj",
        "colab_type": "code",
        "colab": {}
      },
      "source": [
        "# make alphabets lowercase\n",
        "clean_sentences = [s.lower() for s in clean_sentences]"
      ],
      "execution_count": 0,
      "outputs": []
    },
    {
      "cell_type": "code",
      "metadata": {
        "id": "VrVBEc0us6Jz",
        "colab_type": "code",
        "outputId": "19f4ac1c-0d54-4652-98e0-c226019c42a0",
        "colab": {
          "base_uri": "https://localhost:8080/",
          "height": 54
        }
      },
      "source": [
        "print(clean_sentences)"
      ],
      "execution_count": 0,
      "outputs": [
        {
          "output_type": "stream",
          "text": [
            "['malaria is a  mosquito borne  infectious disease that affects humans and other animals ', 'malaria causes symptoms that typically include fever  tiredness  vomiting  and headaches ', 'in severe cases it can cause yellow skin  seizures  coma   death ', 'symptoms usually begin         days after being bitten by an infected mosquito ']\n"
          ],
          "name": "stdout"
        }
      ]
    },
    {
      "cell_type": "markdown",
      "metadata": {
        "id": "6qCOg8Ges6J_",
        "colab_type": "text"
      },
      "source": [
        "**REMOVAL OF STOPWORDS**"
      ]
    },
    {
      "cell_type": "code",
      "metadata": {
        "id": "iIFb7j9Ts6KC",
        "colab_type": "code",
        "outputId": "c54bff97-9cea-488c-a877-eea4fb0105e4",
        "colab": {
          "base_uri": "https://localhost:8080/",
          "height": 138
        }
      },
      "source": [
        "nltk.download('stopwords')\n",
        "from nltk.corpus import stopwords\n",
        "stop_words = stopwords.words('english')\n",
        "print(\"before removing stop words\")\n",
        "print(clean_sentences)\n",
        "def remove_stopwords(sen):\n",
        "    sample_list=[]\n",
        "    for i in sen:\n",
        "      if i not in stop_words:\n",
        "        sample_list.append(i)\n",
        "    sen_new=\" \".join(sample_list)\n",
        "    return sen_new\n",
        "clean_sentences = [remove_stopwords(r.split()) for r in clean_sentences]\n",
        "print(\"removing stop words:\")\n",
        "print(clean_sentences)"
      ],
      "execution_count": 0,
      "outputs": [
        {
          "output_type": "stream",
          "text": [
            "[nltk_data] Downloading package stopwords to /root/nltk_data...\n",
            "[nltk_data]   Unzipping corpora/stopwords.zip.\n",
            "before removing stop words\n",
            "['malaria is a  mosquito borne  infectious disease that affects humans and other animals ', 'malaria causes symptoms that typically include fever  tiredness  vomiting  and headaches ', 'in severe cases it can cause yellow skin  seizures  coma   death ', 'symptoms usually begin         days after being bitten by an infected mosquito ']\n",
            "removing stop words:\n",
            "['malaria mosquito borne infectious disease affects humans animals', 'malaria causes symptoms typically include fever tiredness vomiting headaches', 'severe cases cause yellow skin seizures coma death', 'symptoms usually begin days bitten infected mosquito']\n"
          ],
          "name": "stdout"
        }
      ]
    },
    {
      "cell_type": "markdown",
      "metadata": {
        "id": "qj5MEDEns6KN",
        "colab_type": "text"
      },
      "source": [
        "**LEMMATIZATION OF SENTENCES**"
      ]
    },
    {
      "cell_type": "code",
      "metadata": {
        "id": "kCcNSWeRs6KP",
        "colab_type": "code",
        "outputId": "5e025e5e-4e08-4e8e-cb9c-e176f9383a5a",
        "colab": {
          "base_uri": "https://localhost:8080/",
          "height": 188
        }
      },
      "source": [
        "nltk.download('averaged_perceptron_tagger')\n",
        "nltk.download('wordnet')\n",
        "print(\"Before lemmatization:\")\n",
        "print(clean_sentences)\n",
        "\n",
        "from nltk import pos_tag\n",
        "from nltk.tokenize import word_tokenize\n",
        "from nltk.stem import WordNetLemmatizer\n",
        "\n",
        "\n",
        "part = {\n",
        "    'N' : 'n',\n",
        "    'V' : 'v',\n",
        "    'J' : 'a',\n",
        "    'R' : 'r'\n",
        "}\n",
        "\n",
        "wnl = WordNetLemmatizer()\n",
        "\n",
        "def convert_tag(penn_tag):\n",
        "    if penn_tag in part.keys():\n",
        "        return part[penn_tag]\n",
        "    else:\n",
        "        return 'n'\n",
        "\n",
        "\n",
        "def tag_and_lem(element):\n",
        "    sent = pos_tag(word_tokenize(element)) \n",
        "    return ' '.join([wnl.lemmatize(sent[k][0], convert_tag(sent[k][1][0]))\n",
        "                    for k in range(len(sent))])\n",
        "result_sentence=[]\n",
        "for i in clean_sentences:\n",
        "    value=tag_and_lem(i)\n",
        "    result_sentence.append(value)\n",
        "lemmatized_sentences=result_sentence\n",
        "print(\"After lemmatization:\")\n",
        "print(lemmatized_sentences)"
      ],
      "execution_count": 0,
      "outputs": [
        {
          "output_type": "stream",
          "text": [
            "[nltk_data] Downloading package averaged_perceptron_tagger to\n",
            "[nltk_data]     /root/nltk_data...\n",
            "[nltk_data]   Unzipping taggers/averaged_perceptron_tagger.zip.\n",
            "[nltk_data] Downloading package wordnet to /root/nltk_data...\n",
            "[nltk_data]   Unzipping corpora/wordnet.zip.\n",
            "Before lemmatization:\n",
            "['malaria mosquito borne infectious disease affects humans animals', 'malaria causes symptoms typically include fever tiredness vomiting headaches', 'severe cases cause yellow skin seizures coma death', 'symptoms usually begin days bitten infected mosquito']\n",
            "After lemmatization:\n",
            "['malaria mosquito borne infectious disease affect humans animal', 'malaria cause symptom typically include fever tiredness vomit headache', 'severe case cause yellow skin seizure coma death', 'symptom usually begin day bitten infect mosquito']\n"
          ],
          "name": "stdout"
        }
      ]
    },
    {
      "cell_type": "code",
      "metadata": {
        "id": "Cyi2qeFQs6KZ",
        "colab_type": "code",
        "outputId": "77d71fd6-c359-4112-ccf0-21d23ff5fe7f",
        "colab": {
          "base_uri": "https://localhost:8080/",
          "height": 34
        }
      },
      "source": [
        "len(lemmatized_sentences)"
      ],
      "execution_count": 0,
      "outputs": [
        {
          "output_type": "execute_result",
          "data": {
            "text/plain": [
              "4"
            ]
          },
          "metadata": {
            "tags": []
          },
          "execution_count": 11
        }
      ]
    },
    {
      "cell_type": "markdown",
      "metadata": {
        "id": "Umz9Tlp6s6Kn",
        "colab_type": "text"
      },
      "source": [
        "**SIMILARITY OF SENTENCES USING COSINE SIMILARITY**"
      ]
    },
    {
      "cell_type": "code",
      "metadata": {
        "id": "1EbAB3g2s6Ky",
        "colab_type": "code",
        "colab": {}
      },
      "source": [
        "import math"
      ],
      "execution_count": 0,
      "outputs": []
    },
    {
      "cell_type": "code",
      "metadata": {
        "id": "3HfyEAq-s6K-",
        "colab_type": "code",
        "colab": {}
      },
      "source": [
        "sim_mat = np.zeros([len(sentences), len(sentences)])"
      ],
      "execution_count": 0,
      "outputs": []
    },
    {
      "cell_type": "code",
      "metadata": {
        "id": "cDUk1UZjs6LJ",
        "colab_type": "code",
        "outputId": "38b0fcb8-64e2-43f0-e62e-b341ed65b2e5",
        "colab": {
          "base_uri": "https://localhost:8080/",
          "height": 84
        }
      },
      "source": [
        "sim_mat"
      ],
      "execution_count": 0,
      "outputs": [
        {
          "output_type": "execute_result",
          "data": {
            "text/plain": [
              "array([[0., 0., 0., 0.],\n",
              "       [0., 0., 0., 0.],\n",
              "       [0., 0., 0., 0.],\n",
              "       [0., 0., 0., 0.]])"
            ]
          },
          "metadata": {
            "tags": []
          },
          "execution_count": 14
        }
      ]
    },
    {
      "cell_type": "code",
      "metadata": {
        "id": "UDq5SmyUs6LW",
        "colab_type": "code",
        "colab": {}
      },
      "source": [
        "#similarity_matrix=[]\n",
        "for x in range(0,len(lemmatized_sentences)):\n",
        "   # sim_mat=[]\n",
        "    s1=lemmatized_sentences[x]\n",
        "    s1_words=s1.split()\n",
        "    for y in range(0,len(lemmatized_sentences)):\n",
        "        s2=lemmatized_sentences[y]\n",
        "        s2_words=s2.split()\n",
        "        unique_words=[]\n",
        "        for word in s1_words:\n",
        "            if word not in unique_words:\n",
        "                unique_words.append(word)\n",
        "        for word in s2_words:\n",
        "            if word not in unique_words:\n",
        "                unique_words.append(word)\n",
        "        d={}\n",
        "        for j in unique_words:\n",
        "            d[j]=0\n",
        "        d1=[]\n",
        "        d2=[]\n",
        "        for k in d.keys():\n",
        "            d1.append(s1_words.count(k))\n",
        "            d2.append(s2_words.count(k))\n",
        "        sum_d1=0\n",
        "        for i in d1:\n",
        "            sum_d1=sum_d1+i*i\n",
        "            s1_norm=math.sqrt(sum_d1) \n",
        "        sum_d2=0\n",
        "        for i in d2:\n",
        "            sum_d2=sum_d2+i*i\n",
        "            s2_norm=math.sqrt(sum_d2)\n",
        "        similarity_value=0\n",
        "        for i in range(0,len(d1)):\n",
        "            d1[i]=d1[i]/s1_norm\n",
        "            d2[i]=d2[i]/s2_norm\n",
        "            similarity_value+=d1[i]*d2[i]\n",
        "        sim_mat[x][y]=similarity_value"
      ],
      "execution_count": 0,
      "outputs": []
    },
    {
      "cell_type": "code",
      "metadata": {
        "id": "Q9xsl14Ks6Li",
        "colab_type": "code",
        "outputId": "9ef2f434-b442-4d57-841c-82d46ef3b647",
        "colab": {
          "base_uri": "https://localhost:8080/",
          "height": 84
        }
      },
      "source": [
        "sim_mat"
      ],
      "execution_count": 0,
      "outputs": [
        {
          "output_type": "execute_result",
          "data": {
            "text/plain": [
              "array([[1.        , 0.11785113, 0.        , 0.13363062],\n",
              "       [0.11785113, 1.        , 0.11785113, 0.12598816],\n",
              "       [0.        , 0.11785113, 1.        , 0.        ],\n",
              "       [0.13363062, 0.12598816, 0.        , 1.        ]])"
            ]
          },
          "metadata": {
            "tags": []
          },
          "execution_count": 16
        }
      ]
    },
    {
      "cell_type": "code",
      "metadata": {
        "id": "kfcIFEZls6Lu",
        "colab_type": "code",
        "colab": {}
      },
      "source": [
        "m=len(sim_mat)"
      ],
      "execution_count": 0,
      "outputs": []
    },
    {
      "cell_type": "code",
      "metadata": {
        "id": "a35YUlyZs6L7",
        "colab_type": "code",
        "outputId": "56fb6a26-572e-4a85-f3a3-aa6f133b981c",
        "colab": {
          "base_uri": "https://localhost:8080/",
          "height": 34
        }
      },
      "source": [
        "print(m)"
      ],
      "execution_count": 0,
      "outputs": [
        {
          "output_type": "stream",
          "text": [
            "4\n"
          ],
          "name": "stdout"
        }
      ]
    },
    {
      "cell_type": "markdown",
      "metadata": {
        "id": "BaZOK51E6jyr",
        "colab_type": "text"
      },
      "source": [
        "**CALCULATING TEXTRANK FOR SENTENCES**"
      ]
    },
    {
      "cell_type": "code",
      "metadata": {
        "id": "PboxoxMstXk1",
        "colab_type": "code",
        "outputId": "d1541a37-caec-4c37-d6fe-28b9181510d9",
        "colab": {
          "base_uri": "https://localhost:8080/",
          "height": 34
        }
      },
      "source": [
        "damping_factor_matrix = [] \n",
        "\n",
        "for i in range(m): \n",
        "  a=[]\n",
        "  for j in range(1):\n",
        "    a.append(0.85)\n",
        "  damping_factor_matrix.append(a)\n",
        "print(damping_factor_matrix)"
      ],
      "execution_count": 0,
      "outputs": [
        {
          "output_type": "stream",
          "text": [
            "[[0.85], [0.85], [0.85], [0.85]]\n"
          ],
          "name": "stdout"
        }
      ]
    },
    {
      "cell_type": "code",
      "metadata": {
        "id": "wgOhuxjXtmjX",
        "colab_type": "code",
        "outputId": "9462acbc-fc96-42e5-f261-e66c2ab3e0ea",
        "colab": {
          "base_uri": "https://localhost:8080/",
          "height": 84
        }
      },
      "source": [
        "for i in range(m): \n",
        "    for j in range(1): \n",
        "        print(damping_factor_matrix[i][j], end = \" \") \n",
        "    print() "
      ],
      "execution_count": 0,
      "outputs": [
        {
          "output_type": "stream",
          "text": [
            "0.85 \n",
            "0.85 \n",
            "0.85 \n",
            "0.85 \n"
          ],
          "name": "stdout"
        }
      ]
    },
    {
      "cell_type": "code",
      "metadata": {
        "id": "Cpr3ozhGwV4g",
        "colab_type": "code",
        "colab": {}
      },
      "source": [
        "transpose_matrix=np.transpose(sim_mat) "
      ],
      "execution_count": 0,
      "outputs": []
    },
    {
      "cell_type": "code",
      "metadata": {
        "id": "ZaOZUrTmuwcy",
        "colab_type": "code",
        "colab": {}
      },
      "source": [
        "for k in range(3):\n",
        "  res = np.dot(transpose_matrix,damping_factor_matrix) \n",
        "  damping_factor_matrix=res"
      ],
      "execution_count": 0,
      "outputs": []
    },
    {
      "cell_type": "code",
      "metadata": {
        "id": "SqJz25aexlOZ",
        "colab_type": "code",
        "outputId": "446d9915-80c2-4376-faf1-32d5fd5cfca3",
        "colab": {
          "base_uri": "https://localhost:8080/",
          "height": 84
        }
      },
      "source": [
        "print(res)"
      ],
      "execution_count": 0,
      "outputs": [
        {
          "output_type": "stream",
          "text": [
            "[[1.70507085]\n",
            " [1.98720431]\n",
            " [1.26685247]\n",
            " [1.73086887]]\n"
          ],
          "name": "stdout"
        }
      ]
    },
    {
      "cell_type": "code",
      "metadata": {
        "id": "G8NxvN0pv3vV",
        "colab_type": "code",
        "outputId": "10d92ca2-5cf9-4303-c204-c41d765f0aae",
        "colab": {
          "base_uri": "https://localhost:8080/",
          "height": 34
        }
      },
      "source": [
        "rank_dict={}\n",
        "for s in range(len(sentences)):\n",
        "  rank_dict[s]=res[s][0]\n",
        "print(rank_dict)"
      ],
      "execution_count": 0,
      "outputs": [
        {
          "output_type": "stream",
          "text": [
            "{0: 1.705070850611419, 1: 1.9872043089314073, 2: 1.2668524673255812, 3: 1.7308688729793822}\n"
          ],
          "name": "stdout"
        }
      ]
    },
    {
      "cell_type": "markdown",
      "metadata": {
        "id": "FUnZDvlh6zj7",
        "colab_type": "text"
      },
      "source": [
        "**SORTING THE SENTENCES BASED ON THEIR RANKS**"
      ]
    },
    {
      "cell_type": "code",
      "metadata": {
        "id": "_IpAiNWhwBdH",
        "colab_type": "code",
        "outputId": "310acbc5-6b4c-4c40-8b33-13e5e15c4322",
        "colab": {
          "base_uri": "https://localhost:8080/",
          "height": 54
        }
      },
      "source": [
        "ranked_sentences = sorted(((rank_dict[i],s) for i,s in enumerate(sentences)), reverse=True)\n",
        "print(ranked_sentences)"
      ],
      "execution_count": 0,
      "outputs": [
        {
          "output_type": "stream",
          "text": [
            "[(1.9872043089314073, 'Malaria causes symptoms that typically include fever, tiredness, vomiting, and headaches.'), (1.7308688729793822, 'Symptoms usually begin 10 - 15 days after being bitten by an infected mosquito.'), (1.705070850611419, 'Malaria is a \"mosquito-borne\" infectious disease that affects humans and other animals.'), (1.2668524673255812, 'In severe cases it can cause yellow skin, seizures, coma & death.')]\n"
          ],
          "name": "stdout"
        }
      ]
    },
    {
      "cell_type": "markdown",
      "metadata": {
        "id": "L_RYQMCf66VV",
        "colab_type": "text"
      },
      "source": [
        "**PRINTING THE TOP MOST IMPORTANT SENTENCES IN A PARAGRAPH**"
      ]
    },
    {
      "cell_type": "code",
      "metadata": {
        "id": "gogq-i8k6b1a",
        "colab_type": "code",
        "outputId": "b8e8bd82-43cc-4af9-8a30-41008ee65ddd",
        "colab": {
          "base_uri": "https://localhost:8080/",
          "height": 50
        }
      },
      "source": [
        "for i in range(2):\n",
        "    print(ranked_sentences[i][1])"
      ],
      "execution_count": 0,
      "outputs": [
        {
          "output_type": "stream",
          "text": [
            "Malaria causes symptoms that typically include fever, tiredness, vomiting, and headaches.\n",
            "Symptoms usually begin 10 - 15 days after being bitten by an infected mosquito.\n"
          ],
          "name": "stdout"
        }
      ]
    },
    {
      "cell_type": "code",
      "metadata": {
        "id": "Hfk5wAPV6d3D",
        "colab_type": "code",
        "colab": {}
      },
      "source": [
        ""
      ],
      "execution_count": 0,
      "outputs": []
    }
  ]
}